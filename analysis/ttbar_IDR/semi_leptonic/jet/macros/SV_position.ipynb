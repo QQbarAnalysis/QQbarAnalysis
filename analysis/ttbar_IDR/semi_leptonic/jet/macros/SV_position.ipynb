{
 "cells": [
  {
   "cell_type": "code",
   "execution_count": 1,
   "metadata": {},
   "outputs": [
    {
     "name": "stdout",
     "output_type": "stream",
     "text": [
      "Welcome to JupyROOT 6.18/00\n"
     ]
    }
   ],
   "source": [
    "from ROOT import gROOT, gDirectory, gPad, gSystem, gStyle\n",
    "from ROOT import TCanvas, TFile, TProfile, TNtuple, TH1F, TH2F, THStack, TLegend\n",
    "from ROOT import TGaxis, TCut\n",
    "from ROOT import kWhite, kBlack, kGray, kRed, kGreen, kBlue, kYellow, kMagenta, kCyan, kOrange, kSpring, kTeal, kAzure, kViolet, kPink\n",
    "%jsroot on"
   ]
  },
  {
   "cell_type": "code",
   "execution_count": 2,
   "metadata": {},
   "outputs": [],
   "source": [
    "gStyle.SetOptFit(0)\n",
    "gStyle.SetOptStat(0)  \n",
    "gStyle.SetOptTitle(1)\n",
    "gStyle.SetTitleBorderSize(0)\n",
    "gStyle.SetTitleStyle(0)\n",
    "gStyle.SetMarkerSize(1)\n",
    "gStyle.SetTitleX(0.2) \n",
    "gStyle.SetTitleY(0.9)"
   ]
  },
  {
   "cell_type": "code",
   "execution_count": 3,
   "metadata": {},
   "outputs": [],
   "source": [
    "def sethist(hN,hP):\n",
    "    hNNorm = hN.GetEntries()\n",
    "    hPNorm = hP.GetEntries()\n",
    "    hN.Scale(1./hNNorm)\n",
    "    hP.Scale(1./hPNorm)\n",
    "    \n",
    "    hN.SetLineColor(kBlue+1)\n",
    "    hP.SetLineColor(kRed+1)\n",
    "    \n",
    "    hN.SetLineWidth(3)\n",
    "    hP.SetLineWidth(3)"
   ]
  },
  {
   "cell_type": "code",
   "execution_count": 4,
   "metadata": {},
   "outputs": [],
   "source": [
    "# before\n",
    "file = TFile.Open(\"/group/ilc/users/yokugawa/TTbar/l5/eLpR/semiLep/electron_muon/QQbarProcessor_out/IsoLepTagged.eLpR_electron_muon_QQbar_MethodAll_Chi15_121620.root\")"
   ]
  },
  {
   "cell_type": "code",
   "execution_count": 5,
   "metadata": {},
   "outputs": [],
   "source": [
    "c1 = TCanvas(\"c1\", \"Data-MC\",0,0,500,500)\n",
    "\n",
    "hVtxXP = TH1F(\"hVtxXP\", \";Vertex Position X; Entries (normalized)\", 40,-20.,20.)\n",
    "hVtxXN = TH1F(\"hVtxXN\", \";Vertex Position X; Entries (normalized)\", 40,-20.,20.)\n",
    "hVtxYP = TH1F(\"hVtxYP\", \";Vertex Position Y; Entries (normalized)\", 40,-20.,20.)\n",
    "hVtxYN = TH1F(\"hVtxYN\", \";Vertex Position Y; Entries (normalized)\", 40,-20.,20.)"
   ]
  },
  {
   "cell_type": "code",
   "execution_count": 6,
   "metadata": {},
   "outputs": [],
   "source": [
    "Stats = file.Get(\"Stats\")"
   ]
  },
  {
   "cell_type": "code",
   "execution_count": 7,
   "metadata": {},
   "outputs": [],
   "source": [
    "MCcos2 = TCut(\"qCostheta > -2\")\n",
    "MCcosP = TCut(\"qCostheta > 0\")\n",
    "MCcosN = TCut(\"qCostheta < 0\")"
   ]
  },
  {
   "cell_type": "code",
   "execution_count": 8,
   "metadata": {},
   "outputs": [
    {
     "data": {
      "text/plain": [
       "1992710"
      ]
     },
     "execution_count": 8,
     "metadata": {},
     "output_type": "execute_result"
    }
   ],
   "source": [
    "Stats.Draw(\"jet_vtx_posX >> hVtxXP\", MCcos2 + MCcosP)\n",
    "Stats.Draw(\"jet_vtx_posX >> hVtxXN\", MCcos2 + MCcosN)\n",
    "\n",
    "Stats.Draw(\"jet_vtx_posY >> hVtxYP\", MCcos2 + MCcosP)\n",
    "Stats.Draw(\"jet_vtx_posY >> hVtxYN\", MCcos2 + MCcosN)"
   ]
  },
  {
   "cell_type": "code",
   "execution_count": 9,
   "metadata": {},
   "outputs": [],
   "source": [
    "sethist(hVtxXN,hVtxXP)\n",
    "sethist(hVtxYN,hVtxYP)"
   ]
  },
  {
   "cell_type": "code",
   "execution_count": 10,
   "metadata": {},
   "outputs": [],
   "source": [
    "hVtxXP.Draw(\"hist\")\n",
    "hVtxXN.Draw(\"hsame\")"
   ]
  },
  {
   "cell_type": "code",
   "execution_count": 11,
   "metadata": {},
   "outputs": [],
   "source": [
    "legend1 = TLegend(0.17,0.7,0.4,0.8)\n",
    "legend1.SetFillColor(kWhite)\n",
    "legend1.SetBorderSize(0)\n",
    "legend1.AddEntry(hVtxXN,\"Reco cos#theta_{top} < 0\",\"l\")\n",
    "legend1.AddEntry(hVtxXP,\"Reco cos#theta_{top} > 0\",\"l\")\n",
    "legend1.Draw()"
   ]
  },
  {
   "cell_type": "code",
   "execution_count": 12,
   "metadata": {
    "scrolled": false
   },
   "outputs": [
    {
     "data": {
      "text/html": [
       "\n",
       "<div id=\"root_plot_1\"\n",
       "     style=\"width: 496px; height: 472px\">\n",
       "</div>\n",
       "\n",
       "<script>\n",
       " requirejs.config({\n",
       "     paths: {\n",
       "       'JSRootCore' : 'https://root.cern.ch/js/notebook//scripts/JSRootCore',\n",
       "     }\n",
       "   });\n",
       " require(['JSRootCore'],\n",
       "     function(Core) {\n",
       "       var obj = Core.JSONR_unref({\"_typename\":\"TCanvas\",\"fUniqueID\":0,\"fBits\":53673992,\"fLineColor\":1,\"fLineStyle\":1,\"fLineWidth\":1,\"fFillColor\":0,\"fFillStyle\":1001,\"fLeftMargin\":0.1,\"fRightMargin\":0.1,\"fBottomMargin\":0.1,\"fTopMargin\":0.1,\"fXfile\":2,\"fYfile\":2,\"fAfile\":1,\"fXstat\":0.99,\"fYstat\":0.99,\"fAstat\":2,\"fFrameFillColor\":0,\"fFrameLineColor\":1,\"fFrameFillStyle\":1001,\"fFrameLineStyle\":1,\"fFrameLineWidth\":1,\"fFrameBorderSize\":1,\"fFrameBorderMode\":0,\"fX1\":-25.0000003725291,\"fY1\":-0.00291455104776107,\"fX2\":25.0000003725291,\"fY2\":0.0262309576926418,\"fXtoAbsPixelk\":248.00005,\"fXtoPixelk\":248.00005,\"fXtoPixel\":9.91999985218047,\"fYtoAbsPixelk\":424.800047186661,\"fYtoPixelk\":424.800047186661,\"fYtoPixel\":-16194.6049459652,\"fUtoAbsPixelk\":5e-5,\"fUtoPixelk\":5e-5,\"fUtoPixel\":496,\"fVtoAbsPixelk\":472.00005,\"fVtoPixelk\":472,\"fVtoPixel\":-472,\"fAbsPixeltoXk\":-25.0000003725291,\"fPixeltoXk\":-25.0000003725291,\"fPixeltoX\":0.100806453115036,\"fAbsPixeltoYk\":0.0262309576926418,\"fPixeltoYk\":-0.00291455104776107,\"fPixeltoY\":-6.17489591957689e-5,\"fXlowNDC\":0,\"fYlowNDC\":0,\"fXUpNDC\":0,\"fYUpNDC\":0,\"fWNDC\":1,\"fHNDC\":1,\"fAbsXlowNDC\":0,\"fAbsYlowNDC\":0,\"fAbsWNDC\":1,\"fAbsHNDC\":1,\"fUxmin\":-20,\"fUymin\":0,\"fUxmax\":20,\"fUymax\":0.0233164066448808,\"fTheta\":30,\"fPhi\":30,\"fAspectRatio\":0,\"fNumber\":0,\"fTickx\":0,\"fTicky\":0,\"fLogx\":0,\"fLogy\":0,\"fLogz\":0,\"fPadPaint\":0,\"fCrosshair\":0,\"fCrosshairPos\":0,\"fBorderSize\":2,\"fBorderMode\":0,\"fModified\":false,\"fGridx\":false,\"fGridy\":false,\"fAbsCoord\":false,\"fEditable\":true,\"fFixedAspectRatio\":false,\"fPrimitives\":{\"_typename\":\"TList\",\"name\":\"TList\",\"arr\":[{\"_typename\":\"TFrame\",\"fUniqueID\":0,\"fBits\":50331656,\"fLineColor\":1,\"fLineStyle\":1,\"fLineWidth\":1,\"fFillColor\":0,\"fFillStyle\":1001,\"fX1\":-20,\"fY1\":0,\"fX2\":20,\"fY2\":0.0233164066448808,\"fBorderSize\":1,\"fBorderMode\":0},{\"_typename\":\"TH1F\",\"fUniqueID\":0,\"fBits\":50332168,\"fName\":\"hVtxXP\",\"fTitle\":\"\",\"fLineColor\":633,\"fLineStyle\":1,\"fLineWidth\":3,\"fFillColor\":0,\"fFillStyle\":1001,\"fMarkerColor\":1,\"fMarkerStyle\":1,\"fMarkerSize\":1,\"fNcells\":42,\"fXaxis\":{\"_typename\":\"TAxis\",\"fUniqueID\":0,\"fBits\":50331648,\"fName\":\"xaxis\",\"fTitle\":\"Vertex Position X\",\"fNdivisions\":510,\"fAxisColor\":1,\"fLabelColor\":1,\"fLabelFont\":42,\"fLabelOffset\":0.005,\"fLabelSize\":0.035,\"fTickLength\":0.03,\"fTitleOffset\":1,\"fTitleSize\":0.035,\"fTitleColor\":1,\"fTitleFont\":42,\"fNbins\":40,\"fXmin\":-20,\"fXmax\":20,\"fXbins\":[],\"fFirst\":0,\"fLast\":0,\"fBits2\":0,\"fTimeDisplay\":false,\"fTimeFormat\":\"\",\"fLabels\":null,\"fModLabs\":null},\"fYaxis\":{\"_typename\":\"TAxis\",\"fUniqueID\":0,\"fBits\":50331648,\"fName\":\"yaxis\",\"fTitle\":\" Entries (normalized)\",\"fNdivisions\":510,\"fAxisColor\":1,\"fLabelColor\":1,\"fLabelFont\":42,\"fLabelOffset\":0.005,\"fLabelSize\":0.035,\"fTickLength\":0.03,\"fTitleOffset\":0,\"fTitleSize\":0.035,\"fTitleColor\":1,\"fTitleFont\":42,\"fNbins\":1,\"fXmin\":0,\"fXmax\":1,\"fXbins\":[],\"fFirst\":0,\"fLast\":0,\"fBits2\":0,\"fTimeDisplay\":false,\"fTimeFormat\":\"\",\"fLabels\":null,\"fModLabs\":null},\"fZaxis\":{\"_typename\":\"TAxis\",\"fUniqueID\":0,\"fBits\":50331648,\"fName\":\"zaxis\",\"fTitle\":\"\",\"fNdivisions\":510,\"fAxisColor\":1,\"fLabelColor\":1,\"fLabelFont\":42,\"fLabelOffset\":0.005,\"fLabelSize\":0.035,\"fTickLength\":0.03,\"fTitleOffset\":1,\"fTitleSize\":0.035,\"fTitleColor\":1,\"fTitleFont\":42,\"fNbins\":1,\"fXmin\":0,\"fXmax\":1,\"fXbins\":[],\"fFirst\":0,\"fLast\":0,\"fBits2\":0,\"fTimeDisplay\":false,\"fTimeFormat\":\"\",\"fLabels\":null,\"fModLabs\":null},\"fBarOffset\":0,\"fBarWidth\":1000,\"fEntries\":3721770,\"fTsumw\":653653,\"fTsumw2\":653653,\"fTsumwx\":40007.6197029982,\"fTsumwx2\":19029018.9875704,\"fMaximum\":-1111,\"fMinimum\":-1111,\"fNormFactor\":0,\"fContour\":[],\"fSumw2\":[2.21120318678427e-7,7.0533510906401e-11,8.39615897483566e-11,1.03814932122216e-10,1.26844809275892e-10,1.47925449178317e-10,1.82145392033623e-10,2.15787783110781e-10,2.60331464000493e-10,3.24728487264065e-10,4.05080378398993e-10,5.12288427217832e-10,6.34657210213072e-10,7.99331660957699e-10,1.01923450048779e-9,1.29580960824871e-9,1.719516031493e-9,2.25396800819728e-9,3.06528386855157e-9,4.24767674636634e-9,5.89052277931011e-9,5.96654303210892e-9,4.26724131285113e-9,3.10008136318502e-9,2.29223081349963e-9,1.76947426030285e-9,1.33356705574518e-9,1.04313070530869e-9,8.37233496398703e-10,6.61368979952446e-10,5.31275441924468e-10,4.24861526800583e-10,3.56782610951314e-10,2.76430719816386e-10,2.33691888233388e-10,1.95645664847847e-10,1.53628772987535e-10,1.28288688721264e-10,1.06847078957496e-10,8.34562319424765e-11,6.85842736551494e-11,3.79234936326842e-10],\"fOption\":\"\",\"fFunctions\":{\"_typename\":\"TList\",\"name\":\"TList\",\"arr\":[],\"opt\":[]},\"fBufferSize\":0,\"fBuffer\":[],\"fBinStatErrOpt\":0,\"fStatOverflows\":2,\"fArray\":[0.8229589,2.625095e-4,3.124857e-4,3.863753e-4,4.720872e-4,5.505445e-4,6.779032e-4,8.031125e-4,9.688938e-4,0.001208565,0.001507616,0.00190662,0.002362048,0.002974929,0.003793356,0.004822705,0.006399643,0.00838875,0.01140828,0.01580888,0.02192317,0.0222061,0.01588169,0.01153779,0.008531156,0.006585576,0.00496323,0.003882293,0.00311599,0.002461463,0.001977285,0.001581237,0.001327863,0.001028812,8.697475e-4,7.281482e-4,5.717709e-4,4.77461e-4,3.976602e-4,3.106049e-4,2.552549e-4,0.001411425]},{\"_typename\":\"TH1F\",\"fUniqueID\":0,\"fBits\":50332168,\"fName\":\"hVtxXN\",\"fTitle\":\"\",\"fLineColor\":601,\"fLineStyle\":1,\"fLineWidth\":3,\"fFillColor\":0,\"fFillStyle\":1001,\"fMarkerColor\":1,\"fMarkerStyle\":1,\"fMarkerSize\":1,\"fNcells\":42,\"fXaxis\":{\"_typename\":\"TAxis\",\"fUniqueID\":0,\"fBits\":50331648,\"fName\":\"xaxis\",\"fTitle\":\"Vertex Position X\",\"fNdivisions\":510,\"fAxisColor\":1,\"fLabelColor\":1,\"fLabelFont\":42,\"fLabelOffset\":0.005,\"fLabelSize\":0.035,\"fTickLength\":0.03,\"fTitleOffset\":1,\"fTitleSize\":0.035,\"fTitleColor\":1,\"fTitleFont\":42,\"fNbins\":40,\"fXmin\":-20,\"fXmax\":20,\"fXbins\":[],\"fFirst\":0,\"fLast\":0,\"fBits2\":0,\"fTimeDisplay\":false,\"fTimeFormat\":\"\",\"fLabels\":null,\"fModLabs\":null},\"fYaxis\":{\"_typename\":\"TAxis\",\"fUniqueID\":0,\"fBits\":50331648,\"fName\":\"yaxis\",\"fTitle\":\" Entries (normalized)\",\"fNdivisions\":510,\"fAxisColor\":1,\"fLabelColor\":1,\"fLabelFont\":42,\"fLabelOffset\":0.005,\"fLabelSize\":0.035,\"fTickLength\":0.03,\"fTitleOffset\":0,\"fTitleSize\":0.035,\"fTitleColor\":1,\"fTitleFont\":42,\"fNbins\":1,\"fXmin\":0,\"fXmax\":1,\"fXbins\":[],\"fFirst\":0,\"fLast\":0,\"fBits2\":0,\"fTimeDisplay\":false,\"fTimeFormat\":\"\",\"fLabels\":null,\"fModLabs\":null},\"fZaxis\":{\"_typename\":\"TAxis\",\"fUniqueID\":0,\"fBits\":50331648,\"fName\":\"zaxis\",\"fTitle\":\"\",\"fNdivisions\":510,\"fAxisColor\":1,\"fLabelColor\":1,\"fLabelFont\":42,\"fLabelOffset\":0.005,\"fLabelSize\":0.035,\"fTickLength\":0.03,\"fTitleOffset\":1,\"fTitleSize\":0.035,\"fTitleColor\":1,\"fTitleFont\":42,\"fNbins\":1,\"fXmin\":0,\"fXmax\":1,\"fXbins\":[],\"fFirst\":0,\"fLast\":0,\"fBits2\":0,\"fTimeDisplay\":false,\"fTimeFormat\":\"\",\"fLabels\":null,\"fModLabs\":null},\"fBarOffset\":0,\"fBarWidth\":1000,\"fEntries\":1992710,\"fTsumw\":348537,\"fTsumw2\":348537,\"fTsumwx\":9468.62369695122,\"fTsumwx2\":10117817.889877,\"fMaximum\":-1111,\"fMinimum\":-1111,\"fNormFactor\":0,\"fContour\":[],\"fSumw2\":[4.13304750453559e-7,1.28182749202476e-10,1.61424640940642e-10,2.00206847968503e-10,2.40248217562204e-10,2.91622050248461e-10,3.60624158856474e-10,4.00161863423838e-10,4.96110050940819e-10,6.11701174484898e-10,7.63556179925159e-10,9.3732061401103e-10,1.14835626004575e-9,1.50797308884956e-9,1.86834541519286e-9,2.45335234328196e-9,3.14186243428308e-9,4.18923385654849e-9,5.59722943767038e-9,7.79849743527124e-9,1.12644683140014e-8,1.14059981864018e-8,7.99291213543688e-9,5.63978913239576e-9,4.23406004389238e-9,3.20633155765407e-9,2.4546115058478e-9,1.91317160253675e-9,1.51200240906024e-9,1.2037594129427e-9,9.60489205222479e-10,7.71614820346533e-10,6.24040967630127e-10,4.97117380993491e-10,4.28367104898646e-10,3.46269705605902e-10,2.81045084695408e-10,2.32945074680334e-10,1.95925695244648e-10,1.6897961633568e-10,1.43040867479383e-10,7.51468219293099e-10],\"fOption\":\"\",\"fFunctions\":{\"_typename\":\"TList\",\"name\":\"TList\",\"arr\":[],\"opt\":[]},\"fBufferSize\":0,\"fBuffer\":[],\"fBinStatErrOpt\":0,\"fStatOverflows\":2,\"fArray\":[0.8235965,2.55431e-4,3.216725e-4,3.989542e-4,4.78745e-4,5.811182e-4,7.186194e-4,7.974065e-4,9.886035e-4,0.001218943,0.001521546,0.001867808,0.002288341,0.003004953,0.00372307,0.00488882,0.006260821,0.008347929,0.01115366,0.01554014,0.02244682,0.02272885,0.01592756,0.01123846,0.008437254,0.006389289,0.004891329,0.003812396,0.003012982,0.002398744,0.001913976,0.001537605,0.001243533,9.906108e-4,8.536114e-4,6.900151e-4,5.600413e-4,4.64192e-4,3.904231e-4,3.367274e-4,2.85039e-4,0.001497458]},{\"_typename\":\"TLegend\",\"fUniqueID\":0,\"fBits\":50331656,\"fLineColor\":1,\"fLineStyle\":1,\"fLineWidth\":1,\"fFillColor\":0,\"fFillStyle\":1001,\"fX1\":-16.5000002458692,\"fY1\":0.017487305070521,\"fX2\":-5.00000007450581,\"fY2\":0.0204018559445613,\"fX1NDC\":0.17,\"fY1NDC\":0.7,\"fX2NDC\":0.4,\"fY2NDC\":0.8,\"fBorderSize\":0,\"fInit\":1,\"fShadowColor\":1,\"fCornerRadius\":0,\"fOption\":\"brNDC\",\"fName\":\"TPave\",\"fTextAngle\":0,\"fTextSize\":0,\"fTextAlign\":12,\"fTextColor\":1,\"fTextFont\":42,\"fPrimitives\":{\"_typename\":\"TList\",\"name\":\"TList\",\"arr\":[{\"_typename\":\"TLegendEntry\",\"fUniqueID\":0,\"fBits\":50331656,\"fTextAngle\":0,\"fTextSize\":0,\"fTextAlign\":0,\"fTextColor\":0,\"fTextFont\":42,\"fLineColor\":601,\"fLineStyle\":1,\"fLineWidth\":3,\"fFillColor\":0,\"fFillStyle\":0,\"fMarkerColor\":1,\"fMarkerStyle\":21,\"fMarkerSize\":1,\"fObject\":{\"$ref\":8},\"fLabel\":\"Reco cos#theta_{top} < 0\",\"fOption\":\"l\"},{\"_typename\":\"TLegendEntry\",\"fUniqueID\":0,\"fBits\":50331656,\"fTextAngle\":0,\"fTextSize\":0,\"fTextAlign\":0,\"fTextColor\":0,\"fTextFont\":42,\"fLineColor\":633,\"fLineStyle\":1,\"fLineWidth\":3,\"fFillColor\":0,\"fFillStyle\":0,\"fMarkerColor\":1,\"fMarkerStyle\":21,\"fMarkerSize\":1,\"fObject\":{\"$ref\":3},\"fLabel\":\"Reco cos#theta_{top} > 0\",\"fOption\":\"l\"}],\"opt\":[\"l\",\"l\"]},\"fEntrySeparation\":0.1,\"fMargin\":0.25,\"fNColumns\":1,\"fColumnSeparation\":0}],\"opt\":[\"\",\"hist\",\"hsame\",\"\"]},\"fExecs\":null,\"fName\":\"c1\",\"fTitle\":\"Data-MC\",\"fNumPaletteColor\":0,\"fNextPaletteColor\":0,\"fDISPLAY\":\"$DISPLAY\",\"fDoubleBuffer\":0,\"fRetained\":true,\"fXsizeUser\":0,\"fYsizeUser\":0,\"fXsizeReal\":20,\"fYsizeReal\":20,\"fWindowTopX\":0,\"fWindowTopY\":0,\"fWindowWidth\":0,\"fWindowHeight\":0,\"fCw\":496,\"fCh\":472,\"fCatt\":{\"_typename\":\"TAttCanvas\",\"fXBetween\":2,\"fYBetween\":2,\"fTitleFromTop\":1.2,\"fXdate\":0.2,\"fYdate\":0.3,\"fAdate\":1},\"kMoveOpaque\":true,\"kResizeOpaque\":true,\"fHighLightColor\":2,\"fBatch\":true,\"kShowEventStatus\":false,\"kAutoExec\":true,\"kMenuBar\":true});\n",
       "       Core.draw(\"root_plot_1\", obj, \"\");\n",
       "     }\n",
       " );\n",
       "</script>\n"
      ],
      "text/plain": [
       "<IPython.core.display.HTML object>"
      ]
     },
     "metadata": {},
     "output_type": "display_data"
    }
   ],
   "source": [
    "c1.Draw()"
   ]
  },
  {
   "cell_type": "code",
   "execution_count": 13,
   "metadata": {},
   "outputs": [],
   "source": [
    "c2 = TCanvas(\"c2\", \"Data-MC\",0,0,500,500)\n",
    "hVtxYN.Draw(\"hist\")\n",
    "hVtxYP.Draw(\"hsame\")"
   ]
  },
  {
   "cell_type": "code",
   "execution_count": 14,
   "metadata": {},
   "outputs": [],
   "source": [
    "legend2 = TLegend(0.17,0.7,0.4,0.8)\n",
    "legend2.SetFillColor(kWhite)\n",
    "legend2.SetBorderSize(0)\n",
    "legend2.AddEntry(hVtxYN,\"Reco cos#theta_{top} < 0\",\"l\")\n",
    "legend2.AddEntry(hVtxYP,\"Reco cos#theta_{top} > 0\",\"l\")\n",
    "legend2.Draw()"
   ]
  },
  {
   "cell_type": "code",
   "execution_count": 15,
   "metadata": {
    "scrolled": false
   },
   "outputs": [
    {
     "data": {
      "text/html": [
       "\n",
       "<div id=\"root_plot_2\"\n",
       "     style=\"width: 496px; height: 472px\">\n",
       "</div>\n",
       "\n",
       "<script>\n",
       " requirejs.config({\n",
       "     paths: {\n",
       "       'JSRootCore' : 'https://root.cern.ch/js/notebook//scripts/JSRootCore',\n",
       "     }\n",
       "   });\n",
       " require(['JSRootCore'],\n",
       "     function(Core) {\n",
       "       var obj = Core.JSONR_unref({\"_typename\":\"TCanvas\",\"fUniqueID\":0,\"fBits\":53673992,\"fLineColor\":1,\"fLineStyle\":1,\"fLineWidth\":1,\"fFillColor\":0,\"fFillStyle\":1001,\"fLeftMargin\":0.1,\"fRightMargin\":0.1,\"fBottomMargin\":0.1,\"fTopMargin\":0.1,\"fXfile\":2,\"fYfile\":2,\"fAfile\":1,\"fXstat\":0.99,\"fYstat\":0.99,\"fAstat\":2,\"fFrameFillColor\":0,\"fFrameLineColor\":1,\"fFrameFillStyle\":1001,\"fFrameLineStyle\":1,\"fFrameLineWidth\":1,\"fFrameBorderSize\":1,\"fFrameBorderMode\":0,\"fX1\":-25.0000003725291,\"fY1\":-0.00371367099889896,\"fX2\":25.0000003725291,\"fY2\":0.0334230367765703,\"fXtoAbsPixelk\":248.00005,\"fXtoPixelk\":248.00005,\"fXtoPixel\":9.91999985218047,\"fYtoAbsPixelk\":424.800047186661,\"fYtoPixelk\":424.800047186661,\"fYtoPixel\":-12709.7965402248,\"fUtoAbsPixelk\":5e-5,\"fUtoPixelk\":5e-5,\"fUtoPixel\":496,\"fVtoAbsPixelk\":472.00005,\"fVtoPixelk\":472,\"fVtoPixel\":-472,\"fAbsPixeltoXk\":-25.0000003725291,\"fPixeltoXk\":-25.0000003725291,\"fPixeltoX\":0.100806453115036,\"fAbsPixeltoYk\":0.0334230367765703,\"fPixeltoYk\":-0.00371367099889896,\"fPixeltoY\":-7.86794656259942e-5,\"fXlowNDC\":0,\"fYlowNDC\":0,\"fXUpNDC\":0,\"fYUpNDC\":0,\"fWNDC\":1,\"fHNDC\":1,\"fAbsXlowNDC\":0,\"fAbsYlowNDC\":0,\"fAbsWNDC\":1,\"fAbsHNDC\":1,\"fUxmin\":-20,\"fUymin\":0,\"fUxmax\":20,\"fUymax\":0.0297093657776713,\"fTheta\":30,\"fPhi\":30,\"fAspectRatio\":0,\"fNumber\":0,\"fTickx\":0,\"fTicky\":0,\"fLogx\":0,\"fLogy\":0,\"fLogz\":0,\"fPadPaint\":0,\"fCrosshair\":0,\"fCrosshairPos\":0,\"fBorderSize\":2,\"fBorderMode\":0,\"fModified\":false,\"fGridx\":false,\"fGridy\":false,\"fAbsCoord\":false,\"fEditable\":true,\"fFixedAspectRatio\":false,\"fPrimitives\":{\"_typename\":\"TList\",\"name\":\"TList\",\"arr\":[{\"_typename\":\"TFrame\",\"fUniqueID\":0,\"fBits\":50331656,\"fLineColor\":1,\"fLineStyle\":1,\"fLineWidth\":1,\"fFillColor\":0,\"fFillStyle\":1001,\"fX1\":-20,\"fY1\":0,\"fX2\":20,\"fY2\":0.0297093657776713,\"fBorderSize\":1,\"fBorderMode\":0},{\"_typename\":\"TH1F\",\"fUniqueID\":0,\"fBits\":50332168,\"fName\":\"hVtxYN\",\"fTitle\":\"\",\"fLineColor\":601,\"fLineStyle\":1,\"fLineWidth\":3,\"fFillColor\":0,\"fFillStyle\":1001,\"fMarkerColor\":1,\"fMarkerStyle\":1,\"fMarkerSize\":1,\"fNcells\":42,\"fXaxis\":{\"_typename\":\"TAxis\",\"fUniqueID\":0,\"fBits\":50331648,\"fName\":\"xaxis\",\"fTitle\":\"Vertex Position Y\",\"fNdivisions\":510,\"fAxisColor\":1,\"fLabelColor\":1,\"fLabelFont\":42,\"fLabelOffset\":0.005,\"fLabelSize\":0.035,\"fTickLength\":0.03,\"fTitleOffset\":1,\"fTitleSize\":0.035,\"fTitleColor\":1,\"fTitleFont\":42,\"fNbins\":40,\"fXmin\":-20,\"fXmax\":20,\"fXbins\":[],\"fFirst\":0,\"fLast\":0,\"fBits2\":0,\"fTimeDisplay\":false,\"fTimeFormat\":\"\",\"fLabels\":null,\"fModLabs\":null},\"fYaxis\":{\"_typename\":\"TAxis\",\"fUniqueID\":0,\"fBits\":50331648,\"fName\":\"yaxis\",\"fTitle\":\" Entries (normalized)\",\"fNdivisions\":510,\"fAxisColor\":1,\"fLabelColor\":1,\"fLabelFont\":42,\"fLabelOffset\":0.005,\"fLabelSize\":0.035,\"fTickLength\":0.03,\"fTitleOffset\":0,\"fTitleSize\":0.035,\"fTitleColor\":1,\"fTitleFont\":42,\"fNbins\":1,\"fXmin\":0,\"fXmax\":1,\"fXbins\":[],\"fFirst\":0,\"fLast\":0,\"fBits2\":0,\"fTimeDisplay\":false,\"fTimeFormat\":\"\",\"fLabels\":null,\"fModLabs\":null},\"fZaxis\":{\"_typename\":\"TAxis\",\"fUniqueID\":0,\"fBits\":50331648,\"fName\":\"zaxis\",\"fTitle\":\"\",\"fNdivisions\":510,\"fAxisColor\":1,\"fLabelColor\":1,\"fLabelFont\":42,\"fLabelOffset\":0.005,\"fLabelSize\":0.035,\"fTickLength\":0.03,\"fTitleOffset\":1,\"fTitleSize\":0.035,\"fTitleColor\":1,\"fTitleFont\":42,\"fNbins\":1,\"fXmin\":0,\"fXmax\":1,\"fXbins\":[],\"fFirst\":0,\"fLast\":0,\"fBits2\":0,\"fTimeDisplay\":false,\"fTimeFormat\":\"\",\"fLabels\":null,\"fModLabs\":null},\"fBarOffset\":0,\"fBarWidth\":1000,\"fEntries\":1992710,\"fTsumw\":350666,\"fTsumw2\":350666,\"fTsumwx\":3155.32620902014,\"fTsumwx2\":7805085.96853986,\"fMaximum\":-1111,\"fMinimum\":-1111,\"fNormFactor\":0,\"fContour\":[],\"fSumw2\":[4.13044607467457e-7,1.05014157991026e-10,1.09547143228049e-10,1.32212069413162e-10,1.59913645861635e-10,1.97688522836824e-10,2.394927200227e-10,2.99932523183003e-10,3.62135153935481e-10,4.56824178886622e-10,5.52268701377267e-10,7.18729992581268e-10,9.0810804248355e-10,1.24052695986522e-9,1.58503383787894e-9,2.07711456860907e-9,2.78854141830847e-9,3.85882959927217e-9,5.61762787123698e-9,8.48675569375919e-9,1.41847181366967e-8,1.41990725899473e-8,8.55676513241987e-9,5.53905612712859e-9,3.90290028907656e-9,2.8205241474808e-9,2.10179415489953e-9,1.55607309886463e-9,1.2241578465093e-9,9.28506476050152e-10,7.29810623160657e-10,5.70652474838526e-10,4.75459784861049e-10,3.76741439699221e-10,3.05472838472697e-10,2.53595340760104e-10,1.98444020376328e-10,1.6293563601965e-10,1.25664424070796e-10,1.13324630925568e-10,8.71340495561033e-11,4.75459784861049e-10],\"fOption\":\"\",\"fFunctions\":{\"_typename\":\"TList\",\"name\":\"TList\",\"arr\":[],\"opt\":[]},\"fBufferSize\":0,\"fBuffer\":[],\"fBinStatErrOpt\":0,\"fStatOverflows\":2,\"fArray\":[0.8230781,2.092628e-4,2.182957e-4,2.634603e-4,3.186615e-4,3.939359e-4,4.772395e-4,5.976785e-4,7.216303e-4,9.103181e-4,0.001100511,0.00143222,0.001809596,0.00247201,0.003158513,0.004139087,0.005556754,0.007689528,0.0111943,0.01691164,0.02826603,0.02829463,0.01705115,0.01103773,0.007777349,0.005620487,0.004188266,0.003100802,0.002439392,0.001850244,0.001454301,0.001137145,9.474535e-4,7.507364e-4,6.087188e-4,5.05342e-4,3.954414e-4,3.246835e-4,2.504128e-4,2.258231e-4,1.736329e-4,9.474535e-4]},{\"_typename\":\"TH1F\",\"fUniqueID\":0,\"fBits\":50332168,\"fName\":\"hVtxYP\",\"fTitle\":\"\",\"fLineColor\":633,\"fLineStyle\":1,\"fLineWidth\":3,\"fFillColor\":0,\"fFillStyle\":1001,\"fMarkerColor\":1,\"fMarkerStyle\":1,\"fMarkerSize\":1,\"fNcells\":42,\"fXaxis\":{\"_typename\":\"TAxis\",\"fUniqueID\":0,\"fBits\":50331648,\"fName\":\"xaxis\",\"fTitle\":\"Vertex Position Y\",\"fNdivisions\":510,\"fAxisColor\":1,\"fLabelColor\":1,\"fLabelFont\":42,\"fLabelOffset\":0.005,\"fLabelSize\":0.035,\"fTickLength\":0.03,\"fTitleOffset\":1,\"fTitleSize\":0.035,\"fTitleColor\":1,\"fTitleFont\":42,\"fNbins\":40,\"fXmin\":-20,\"fXmax\":20,\"fXbins\":[],\"fFirst\":0,\"fLast\":0,\"fBits2\":0,\"fTimeDisplay\":false,\"fTimeFormat\":\"\",\"fLabels\":null,\"fModLabs\":null},\"fYaxis\":{\"_typename\":\"TAxis\",\"fUniqueID\":0,\"fBits\":50331648,\"fName\":\"yaxis\",\"fTitle\":\" Entries (normalized)\",\"fNdivisions\":510,\"fAxisColor\":1,\"fLabelColor\":1,\"fLabelFont\":42,\"fLabelOffset\":0.005,\"fLabelSize\":0.035,\"fTickLength\":0.03,\"fTitleOffset\":0,\"fTitleSize\":0.035,\"fTitleColor\":1,\"fTitleFont\":42,\"fNbins\":1,\"fXmin\":0,\"fXmax\":1,\"fXbins\":[],\"fFirst\":0,\"fLast\":0,\"fBits2\":0,\"fTimeDisplay\":false,\"fTimeFormat\":\"\",\"fLabels\":null,\"fModLabs\":null},\"fZaxis\":{\"_typename\":\"TAxis\",\"fUniqueID\":0,\"fBits\":50331648,\"fName\":\"zaxis\",\"fTitle\":\"\",\"fNdivisions\":510,\"fAxisColor\":1,\"fLabelColor\":1,\"fLabelFont\":42,\"fLabelOffset\":0.005,\"fLabelSize\":0.035,\"fTickLength\":0.03,\"fTitleOffset\":1,\"fTitleSize\":0.035,\"fTitleColor\":1,\"fTitleFont\":42,\"fNbins\":1,\"fXmin\":0,\"fXmax\":1,\"fXbins\":[],\"fFirst\":0,\"fLast\":0,\"fBits2\":0,\"fTimeDisplay\":false,\"fTimeFormat\":\"\",\"fLabels\":null,\"fModLabs\":null},\"fBarOffset\":0,\"fBarWidth\":1000,\"fEntries\":3721770,\"fTsumw\":650322,\"fTsumw2\":650322,\"fTsumwx\":10736.9127182027,\"fTsumwx2\":20614433.340481,\"fMaximum\":-1111,\"fMinimum\":-1111,\"fNormFactor\":0,\"fContour\":[],\"fSumw2\":[2.21244636698673e-7,8.77156763063226e-11,1.0663049704069e-10,1.22296589022972e-10,1.46842539594288e-10,1.74637218917691e-10,2.05825014937717e-10,2.5491691608035e-10,3.14404749229658e-10,3.70427271710075e-10,4.53666921735746e-10,5.48168831435315e-10,6.65123066510412e-10,8.29075577532353e-10,1.01548041392982e-9,1.30194609589154e-9,1.67302311335203e-9,2.14625460157256e-9,2.88797547265994e-9,4.00127871901368e-9,6.07006918834206e-9,6.1219044604309e-9,4.05426909465882e-9,2.88010632968266e-9,2.15910512863637e-9,1.6919379340864e-9,1.32396525743346e-9,1.04818428336749e-9,8.27559504114713e-10,6.5761489339448e-10,5.53655573327727e-10,4.59514633489501e-10,3.74831104018458e-10,3.06535606252383e-10,2.52534514995487e-10,2.07990834105774e-10,1.78102529586583e-10,1.52545863403506e-10,1.31248641584275e-10,1.04970035678513e-10,8.69937365836368e-11,4.95395037706984e-10],\"fOption\":\"\",\"fFunctions\":{\"_typename\":\"TList\",\"name\":\"TList\",\"arr\":[],\"opt\":[]},\"fBufferSize\":0,\"fBuffer\":[],\"fBinStatErrOpt\":0,\"fStatOverflows\":2,\"fArray\":[0.8234217,3.264576e-4,3.968542e-4,4.551598e-4,5.465142e-4,6.499595e-4,7.660334e-4,9.487421e-4,0.001170142,0.001378645,0.001688444,0.002040158,0.002475435,0.003085629,0.003779385,0.004845544,0.006226607,0.007987866,0.01074838,0.01489184,0.0225914,0.02278432,0.01508906,0.01071909,0.008035692,0.006297004,0.004927494,0.003901101,0.003079986,0.002447491,0.002060579,0.001710208,0.001395035,0.001140855,9.398754e-4,7.74094e-4,6.628567e-4,5.677406e-4,4.884772e-4,3.906743e-4,3.237707e-4,0.001843746]},{\"_typename\":\"TLegend\",\"fUniqueID\":0,\"fBits\":50331656,\"fLineColor\":1,\"fLineStyle\":1,\"fLineWidth\":1,\"fFillColor\":0,\"fFillStyle\":1001,\"fX1\":-16.5000002458692,\"fY1\":0.0222820244439295,\"fX2\":-5.00000007450581,\"fY2\":0.0259956952214765,\"fX1NDC\":0.17,\"fY1NDC\":0.7,\"fX2NDC\":0.4,\"fY2NDC\":0.8,\"fBorderSize\":0,\"fInit\":1,\"fShadowColor\":1,\"fCornerRadius\":0,\"fOption\":\"brNDC\",\"fName\":\"TPave\",\"fTextAngle\":0,\"fTextSize\":0,\"fTextAlign\":12,\"fTextColor\":1,\"fTextFont\":42,\"fPrimitives\":{\"_typename\":\"TList\",\"name\":\"TList\",\"arr\":[{\"_typename\":\"TLegendEntry\",\"fUniqueID\":0,\"fBits\":50331656,\"fTextAngle\":0,\"fTextSize\":0,\"fTextAlign\":0,\"fTextColor\":0,\"fTextFont\":42,\"fLineColor\":601,\"fLineStyle\":1,\"fLineWidth\":3,\"fFillColor\":0,\"fFillStyle\":0,\"fMarkerColor\":1,\"fMarkerStyle\":21,\"fMarkerSize\":1,\"fObject\":{\"$ref\":3},\"fLabel\":\"Reco cos#theta_{top} < 0\",\"fOption\":\"l\"},{\"_typename\":\"TLegendEntry\",\"fUniqueID\":0,\"fBits\":50331656,\"fTextAngle\":0,\"fTextSize\":0,\"fTextAlign\":0,\"fTextColor\":0,\"fTextFont\":42,\"fLineColor\":633,\"fLineStyle\":1,\"fLineWidth\":3,\"fFillColor\":0,\"fFillStyle\":0,\"fMarkerColor\":1,\"fMarkerStyle\":21,\"fMarkerSize\":1,\"fObject\":{\"$ref\":8},\"fLabel\":\"Reco cos#theta_{top} > 0\",\"fOption\":\"l\"}],\"opt\":[\"l\",\"l\"]},\"fEntrySeparation\":0.1,\"fMargin\":0.25,\"fNColumns\":1,\"fColumnSeparation\":0}],\"opt\":[\"\",\"hist\",\"hsame\",\"\"]},\"fExecs\":null,\"fName\":\"c2\",\"fTitle\":\"Data-MC\",\"fNumPaletteColor\":0,\"fNextPaletteColor\":0,\"fDISPLAY\":\"$DISPLAY\",\"fDoubleBuffer\":0,\"fRetained\":true,\"fXsizeUser\":0,\"fYsizeUser\":0,\"fXsizeReal\":20,\"fYsizeReal\":20,\"fWindowTopX\":0,\"fWindowTopY\":0,\"fWindowWidth\":0,\"fWindowHeight\":0,\"fCw\":496,\"fCh\":472,\"fCatt\":{\"_typename\":\"TAttCanvas\",\"fXBetween\":2,\"fYBetween\":2,\"fTitleFromTop\":1.2,\"fXdate\":0.2,\"fYdate\":0.3,\"fAdate\":1},\"kMoveOpaque\":true,\"kResizeOpaque\":true,\"fHighLightColor\":2,\"fBatch\":true,\"kShowEventStatus\":false,\"kAutoExec\":true,\"kMenuBar\":true});\n",
       "       Core.draw(\"root_plot_2\", obj, \"\");\n",
       "     }\n",
       " );\n",
       "</script>\n"
      ],
      "text/plain": [
       "<IPython.core.display.HTML object>"
      ]
     },
     "metadata": {},
     "output_type": "display_data"
    }
   ],
   "source": [
    "c2.Draw()"
   ]
  },
  {
   "cell_type": "code",
   "execution_count": null,
   "metadata": {},
   "outputs": [],
   "source": []
  }
 ],
 "metadata": {
  "kernelspec": {
   "display_name": "Python 3 (Belle2)",
   "language": "python",
   "name": "python3"
  },
  "language_info": {
   "codemirror_mode": {
    "name": "ipython",
    "version": 3
   },
   "file_extension": ".py",
   "mimetype": "text/x-python",
   "name": "python",
   "nbconvert_exporter": "python",
   "pygments_lexer": "ipython3",
   "version": "3.6.9"
  }
 },
 "nbformat": 4,
 "nbformat_minor": 2
}
